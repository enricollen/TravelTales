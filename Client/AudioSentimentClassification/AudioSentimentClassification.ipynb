{
  "cells": [
    {
      "cell_type": "markdown",
      "metadata": {
        "id": "lCJNiuEwq5c-"
      },
      "source": [
        "# Audio Sentiment Classification"
      ]
    },
    {
      "cell_type": "code",
      "execution_count": 8,
      "metadata": {
        "id": "ThBYZKxaBFuH"
      },
      "outputs": [],
      "source": [
        "import keras\n",
        "import numpy as np\n",
        "import librosa\n",
        "import scipy"
      ]
    },
    {
      "cell_type": "code",
      "execution_count": 25,
      "metadata": {
        "id": "Yu6WYdNRRvJ_"
      },
      "outputs": [],
      "source": [
        "class AudioSentimentClassifier:\n",
        "    \"\"\"\n",
        "    Main class of the application.\n",
        "    \"\"\"\n",
        "\n",
        "    def __init__(self, path, file):\n",
        "        \"\"\"\n",
        "        Init method is used to initialize the main parameters.\n",
        "        \"\"\"\n",
        "        self.path = path\n",
        "        self.file = file\n",
        "\n",
        "    def load_model(self):\n",
        "        \"\"\"\n",
        "        Method to load the chosen model.\n",
        "        :param path: path to your h5 model.\n",
        "        :return: summary of the model with the .summary() function.\n",
        "        \"\"\"\n",
        "        self.loaded_model = keras.models.load_model(self.path)\n",
        "        #return self.loaded_model.summary()\n",
        "\n",
        "    def makepredictions(self):\n",
        "        \"\"\"\n",
        "        Method to process the files and create your features.\n",
        "        \"\"\"\n",
        "        data, sampling_rate = librosa.load(self.file)\n",
        "        mfccs = np.mean(librosa.feature.mfcc(y=data, sr=sampling_rate, n_mfcc=40).T, axis=0)\n",
        "        x = np.expand_dims(mfccs, axis=0)\n",
        "        x = np.expand_dims(x, axis=2)  # Adjust dimensions for model input\n",
        "        predictions = self.loaded_model.predict(x)\n",
        "\n",
        "        # Apply softmax to normalize the probabilities\n",
        "        normalized_probabilities = scipy.special.softmax(predictions)\n",
        "\n",
        "        # Print the normalized vector of probabilities associated with each class\n",
        "        print(\"Normalized Probabilities:\", normalized_probabilities)\n",
        "\n",
        "        # Find the predicted class index\n",
        "        predicted_class = np.argmax(predictions)\n",
        "\n",
        "        # Print the predicted class label\n",
        "        print(\"Predicted class:\", self.convertclasstoemotion(predicted_class))\n",
        "\n",
        "\n",
        "    @staticmethod\n",
        "    def convertclasstoemotion(pred):\n",
        "        \"\"\"\n",
        "        Method to convert the predictions (int) into human readable strings.\n",
        "        \"\"\"\n",
        "\n",
        "        label_conversion = {'0': 'neutral',\n",
        "                            '1': 'calm',\n",
        "                            '2': 'happy',\n",
        "                            '3': 'sad',\n",
        "                            '4': 'angry',\n",
        "                            '5': 'fearful',\n",
        "                            '6': 'disgust',\n",
        "                            '7': 'surprised'}\n",
        "\n",
        "        for key, value in label_conversion.items():\n",
        "            if int(key) == pred:\n",
        "                label = value\n",
        "        return label\n"
      ]
    },
    {
      "cell_type": "code",
      "execution_count": 26,
      "metadata": {
        "colab": {
          "base_uri": "https://localhost:8080/"
        },
        "id": "z-UI3bEYsmVs",
        "outputId": "a38a5fed-dc3f-4469-b8f7-1338d8209a92"
      },
      "outputs": [
        {
          "name": "stdout",
          "output_type": "stream",
          "text": [
            "1/1 [==============================] - 0s 107ms/step\n",
            "Normalized Probabilities: [[0.10290077 0.1029008  0.1029008  0.10290939 0.10290078 0.10290284\n",
            "  0.27968383 0.10290077]]\n",
            "Predicted class: disgust\n",
            "1/1 [==============================] - 0s 62ms/step\n",
            "Normalized Probabilities: [[0.10570319 0.10970058 0.23968568 0.12209769 0.1057032  0.10570325\n",
            "  0.1057032  0.10570319]]\n",
            "Predicted class: happy\n"
          ]
        }
      ],
      "source": [
        "MLPpred = AudioSentimentClassifier(path='C:\\\\Users\\\\nello\\\\Documents\\\\vscode_projects\\\\TravelTales\\\\Client\\\\AudioSentimentClassification\\\\models\\\\MLP_Classifier.h5',\n",
        "                                    file='C:\\\\Users\\\\nello\\\\Documents\\\\vscode_projects\\\\TravelTales\\\\Client\\\\AudioSentimentClassification\\\\audio\\\\joy2.wav')\n",
        "CNNpred = AudioSentimentClassifier(path='C:\\\\Users\\\\nello\\\\Documents\\\\vscode_projects\\\\TravelTales\\\\Client\\\\AudioSentimentClassification\\\\models\\\\CNN_Classifier.h5',\n",
        "                                   file='C:\\\\Users\\\\nello\\\\Documents\\\\vscode_projects\\\\TravelTales\\\\Client\\\\AudioSentimentClassification\\\\audio\\\\joy2.wav')\n",
        "\n",
        "# Model 1\n",
        "MLPpred.load_model()\n",
        "MLPpred.makepredictions()\n",
        "\n",
        "# Model 2\n",
        "CNNpred.load_model()\n",
        "CNNpred.makepredictions()"
      ]
    },
    {
      "cell_type": "code",
      "execution_count": 14,
      "metadata": {},
      "outputs": [
        {
          "name": "stdout",
          "output_type": "stream",
          "text": [
            "Librosa version: 2.15.0\n",
            "Librosa version: 0.10.1\n",
            "NumPy version: 1.23.5\n"
          ]
        }
      ],
      "source": [
        "print(\"Librosa version:\", keras.__version__)\n",
        "print(\"Librosa version:\", librosa.__version__)\n",
        "print(\"NumPy version:\", np.__version__)"
      ]
    },
    {
      "cell_type": "markdown",
      "metadata": {
        "id": "YAFFbaHkoD6R"
      },
      "source": [
        "--------------------------------------------------------------------------------"
      ]
    },
    {
      "cell_type": "markdown",
      "metadata": {},
      "source": [
        "## Convert to tflite model in order to run on raspi"
      ]
    },
    {
      "cell_type": "code",
      "execution_count": 15,
      "metadata": {},
      "outputs": [
        {
          "name": "stdout",
          "output_type": "stream",
          "text": [
            "Note: you may need to restart the kernel to use updated packages.\n"
          ]
        },
        {
          "name": "stderr",
          "output_type": "stream",
          "text": [
            "ERROR: Could not find a version that satisfies the requirement tflite_runtime (from versions: none)\n",
            "ERROR: No matching distribution found for tflite_runtime\n"
          ]
        }
      ],
      "source": [
        "pip install tflite_runtime"
      ]
    },
    {
      "cell_type": "code",
      "execution_count": 16,
      "metadata": {},
      "outputs": [
        {
          "name": "stdout",
          "output_type": "stream",
          "text": [
            "INFO:tensorflow:Assets written to: C:\\Users\\nello\\AppData\\Local\\Temp\\tmp5ahyz9fl\\assets\n"
          ]
        },
        {
          "name": "stderr",
          "output_type": "stream",
          "text": [
            "INFO:tensorflow:Assets written to: C:\\Users\\nello\\AppData\\Local\\Temp\\tmp5ahyz9fl\\assets\n"
          ]
        },
        {
          "name": "stdout",
          "output_type": "stream",
          "text": [
            "TFLite model saved to C:\\Users\\nello\\Documents\\vscode_projects\\TravelTales\\Client\\AudioSentimentClassification\\models\\CNN_Classifier_Lite.tflite\n"
          ]
        }
      ],
      "source": [
        "import tensorflow as tf\n",
        "from tensorflow.keras.models import load_model\n",
        "\n",
        "h5_model_path = 'C:\\\\Users\\\\nello\\\\Documents\\\\vscode_projects\\\\TravelTales\\\\Client\\\\AudioSentimentClassification\\\\models\\\\CNN_Classifier.h5'\n",
        "keras_model = load_model(h5_model_path)\n",
        "\n",
        "# Convert the Keras model to TensorFlow Lite format\n",
        "converter = tf.lite.TFLiteConverter.from_keras_model(keras_model)\n",
        "tflite_model = converter.convert()\n",
        "\n",
        "tflite_model_path = 'C:\\\\Users\\\\nello\\\\Documents\\\\vscode_projects\\\\TravelTales\\\\Client\\\\AudioSentimentClassification\\\\models\\\\CNN_Classifier_Lite.tflite'\n",
        "with open(tflite_model_path, 'wb') as f:\n",
        "    f.write(tflite_model)\n",
        "\n",
        "print(f'TFLite model saved to {tflite_model_path}')\n"
      ]
    },
    {
      "cell_type": "code",
      "execution_count": 17,
      "metadata": {},
      "outputs": [],
      "source": [
        "class AudioSentimentClassifierLite:\n",
        "    \"\"\"\n",
        "    Main class of the application.\n",
        "    \"\"\"\n",
        "\n",
        "    def __init__(self, path, file):\n",
        "        \"\"\"\n",
        "        Init method is used to initialize the main parameters.\n",
        "        \"\"\"\n",
        "        self.path = path\n",
        "        self.file = file\n",
        "\n",
        "    def load_model(self):\n",
        "      self.interpreter = tf.lite.Interpreter(model_path=self.path)\n",
        "      self.interpreter.allocate_tensors()\n",
        "\n",
        "\n",
        "    def makepredictions(self):\n",
        "      \"\"\"\n",
        "      Method to process the files and create your features.\n",
        "      \"\"\"\n",
        "      data, sampling_rate = librosa.load(self.file)\n",
        "      mfccs = np.mean(librosa.feature.mfcc(y=data, sr=sampling_rate, n_mfcc=40).T, axis=0)\n",
        "      x = np.expand_dims(mfccs, axis=0)\n",
        "      x = np.expand_dims(x, axis=2)  # Adjust dimensions for model input\n",
        "\n",
        "      # Get input and output tensors\n",
        "      input_tensor_index = self.interpreter.get_input_details()[0]['index']\n",
        "      output = self.interpreter.tensor(self.interpreter.get_output_details()[0]['index'])\n",
        "\n",
        "      # Run inference\n",
        "      self.interpreter.set_tensor(input_tensor_index, x)\n",
        "      self.interpreter.invoke()\n",
        "\n",
        "      # Get the output\n",
        "      predictions = output()[0]\n",
        "      predicted_class = np.argmax(predictions)\n",
        "      print(\"Prediction is\", \" \", self.convertclasstoemotion(predicted_class))\n",
        "\n",
        "\n",
        "\n",
        "    @staticmethod\n",
        "    def convertclasstoemotion(pred):\n",
        "        \"\"\"\n",
        "        Method to convert the predictions (int) into human readable strings.\n",
        "        \"\"\"\n",
        "\n",
        "        label_conversion = {'0': 'neutral',\n",
        "                            '1': 'calm',\n",
        "                            '2': 'happy',\n",
        "                            '3': 'sad',\n",
        "                            '4': 'angry',\n",
        "                            '5': 'fearful',\n",
        "                            '6': 'disgust',\n",
        "                            '7': 'surprised'}\n",
        "\n",
        "        for key, value in label_conversion.items():\n",
        "            if int(key) == pred:\n",
        "                label = value\n",
        "        return label"
      ]
    },
    {
      "cell_type": "code",
      "execution_count": 18,
      "metadata": {},
      "outputs": [
        {
          "name": "stdout",
          "output_type": "stream",
          "text": [
            "Prediction is   happy\n"
          ]
        }
      ],
      "source": [
        "audio_classifier = AudioSentimentClassifierLite(path='C:\\\\Users\\\\nello\\\\Documents\\\\vscode_projects\\\\TravelTales\\\\Client\\\\AudioSentimentClassification\\\\models\\\\CNN_Classifier_Lite.tflite',\n",
        "                                                 file='C:\\\\Users\\\\nello\\\\Documents\\\\vscode_projects\\\\TravelTales\\\\Client\\\\AudioSentimentClassification\\\\audio\\\\joy2.wav')\n",
        "audio_classifier.load_model()\n",
        "audio_classifier.makepredictions()"
      ]
    }
  ],
  "metadata": {
    "colab": {
      "provenance": []
    },
    "kernelspec": {
      "display_name": "Python 3",
      "name": "python3"
    },
    "language_info": {
      "codemirror_mode": {
        "name": "ipython",
        "version": 3
      },
      "file_extension": ".py",
      "mimetype": "text/x-python",
      "name": "python",
      "nbconvert_exporter": "python",
      "pygments_lexer": "ipython3",
      "version": "3.11.7"
    }
  },
  "nbformat": 4,
  "nbformat_minor": 0
}
